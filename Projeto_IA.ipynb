{
  "cells": [
    {
      "cell_type": "markdown",
      "metadata": {
        "id": "view-in-github",
        "colab_type": "text"
      },
      "source": [
        "<a href=\"https://colab.research.google.com/github/AlessandraMendes02/Projeto-IA/blob/main/Projeto_IA.ipynb\" target=\"_parent\"><img src=\"https://colab.research.google.com/assets/colab-badge.svg\" alt=\"Open In Colab\"/></a>"
      ]
    },
    {
      "cell_type": "code",
      "execution_count": null,
      "metadata": {
        "id": "sOKTfO6Gn2Vp"
      },
      "outputs": [],
      "source": [
        "#INSTALAÇÕES\n",
        "!pip install flask transformers pillow\n",
        "!pip install flask-ngrok\n",
        "!pip install pyngrok\n",
        "!pip install Flask-CORS\n",
        "!apt-get install -y ngrok"
      ]
    },
    {
      "cell_type": "code",
      "execution_count": null,
      "metadata": {
        "id": "XZXew5KO4NXt"
      },
      "outputs": [],
      "source": [
        "#IMPORTANDO\n",
        "from pyngrok import ngrok\n",
        "from flask import Flask, request, jsonify\n",
        "from flask_cors import CORS\n",
        "from transformers import BlipProcessor, BlipForConditionalGeneration\n",
        "from PIL import Image\n",
        "import base64\n",
        "import io"
      ]
    },
    {
      "cell_type": "code",
      "execution_count": null,
      "metadata": {
        "id": "rDUGCZfyS4ZL"
      },
      "outputs": [],
      "source": [
        "#CONVERTENDO BASE64 EM IMAGEM, TREINANDO O MODELO E RETORNANDO URL DE CONEXÃO\n",
        "ngrok.set_auth_token(\"2oysyDs6AlT4zWFCIkoE03un4oA_7yde9saoty62DksqDo5k3\")\n",
        "\n",
        "processor = BlipProcessor.from_pretrained(\"Salesforce/blip-image-captioning-large\")\n",
        "model = BlipForConditionalGeneration.from_pretrained(\"Salesforce/blip-image-captioning-large\")\n",
        "\n",
        "app = Flask(__name__)\n",
        "CORS(app, resources={r\"/*\": {\"origins\": \"*\"}})\n",
        "\n",
        "genereted_url = ngrok.connect(5000)\n",
        "print(f\" * Ngrok URL: {genereted_url}\")\n",
        "\n",
        "@app.route('/process-image', methods=['POST'])\n",
        "def process_image():\n",
        "    try:\n",
        "        data = request.json\n",
        "        image_base64 = data.get(\"image\")\n",
        "\n",
        "        if not image_base64:\n",
        "            return jsonify({\"error\": \"image not found\"}), 400\n",
        "\n",
        "        image_data = base64.b64decode(image_base64.split(\",\")[1])\n",
        "        image = Image.open(io.BytesIO(image_data)).convert('RGB')\n",
        "\n",
        "        inputs = processor(image, return_tensors=\"pt\")\n",
        "        out = model.generate(**inputs)\n",
        "        description = processor.decode(out[0], skip_special_tokens=True)\n",
        "\n",
        "        print(f\"Descrição gerada: {description}\")\n",
        "\n",
        "        return jsonify({\"description\": description})\n",
        "\n",
        "    except Exception as e:\n",
        "        return jsonify({\"error\": str(e)}), 500\n",
        "\n",
        "app.run(port=5000)"
      ]
    }
  ],
  "metadata": {
    "colab": {
      "provenance": [],
      "authorship_tag": "ABX9TyP6PKZIrVEasnnm46IkMFjr",
      "include_colab_link": true
    },
    "kernelspec": {
      "display_name": "Python 3",
      "name": "python3"
    },
    "language_info": {
      "name": "python"
    }
  },
  "nbformat": 4,
  "nbformat_minor": 0
}